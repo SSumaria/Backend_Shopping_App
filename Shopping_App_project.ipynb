{
 "cells": [
  {
   "cell_type": "code",
   "execution_count": 1,
   "id": "d252c008-c98d-46ed-bf29-74564712da88",
   "metadata": {},
   "outputs": [
    {
     "name": "stdout",
     "output_type": "stream",
     "text": [
      "Welcome to the Demo Marketplace\n"
     ]
    }
   ],
   "source": [
    "print(\"Welcome to the Demo Marketplace\")"
   ]
  },
  {
   "cell_type": "code",
   "execution_count": 2,
   "id": "9c0fabcb-1330-4721-add1-abefe030331b",
   "metadata": {},
   "outputs": [],
   "source": [
    "users = [\"user\", \"admin\"]\n",
    "passwords = [\"user1234\", \"admin1234\"]\n",
    "sessionid = [\"U01\", \"A01\"]"
   ]
  },
  {
   "cell_type": "code",
   "execution_count": 3,
   "id": "e5cc2715-818f-4d7e-9c88-8e145fe074bd",
   "metadata": {},
   "outputs": [
    {
     "name": "stdin",
     "output_type": "stream",
     "text": [
      "Username:  admin\n",
      "Password:  admin1234\n"
     ]
    }
   ],
   "source": [
    "username = input(\"Username: \")\n",
    "password = input(\"Password: \")"
   ]
  },
  {
   "cell_type": "markdown",
   "id": "7112ac64-aa13-431b-bf9e-6a00c8d3d78e",
   "metadata": {},
   "source": [
    "## Generate Session ID"
   ]
  },
  {
   "cell_type": "code",
   "execution_count": 4,
   "id": "f2b739a2-9fb8-4a36-812b-ca43e135d288",
   "metadata": {},
   "outputs": [],
   "source": [
    "def userid():\n",
    "\n",
    "    if username == \"user\" and password == passwords[0]:\n",
    "        return sessionid[0]\n",
    "    elif username == \"admin\" and password == passwords[1]:\n",
    "        return sessionid[1]\n",
    "    else:\n",
    "        print(\"Invalid username or password\")\n"
   ]
  },
  {
   "cell_type": "markdown",
   "id": "4c3df612-7638-4a0f-8543-25238082f0b7",
   "metadata": {},
   "source": [
    "## Create catalog and set controls"
   ]
  },
  {
   "cell_type": "code",
   "execution_count": 5,
   "id": "06bef2c8-e1dd-4919-bb06-1cc0b1a2269b",
   "metadata": {},
   "outputs": [],
   "source": [
    "class ClothingItem:\n",
    "    def __init__(self, name, price, productid, categoryid):\n",
    "        self.name = name\n",
    "        self.price = price\n",
    "        self.productid = productid\n",
    "        self.categoryid = categoryid\n",
    "\n",
    "catalog = {}\n",
    "\n",
    "def add_category(category_name):\n",
    "    if category_name not in catalog:\n",
    "        catalog[category_name] = []\n",
    "\n",
    "def remove_category(category_name):\n",
    "    if category_name in catalog:\n",
    "        del catalog[category_name]\n",
    "\n",
    "def add_item(category_name, item):\n",
    "    if category_name in catalog:\n",
    "        catalog[category_name].append(item)\n",
    "    else:\n",
    "        print(f\"Category {category_name} does not exist.\")\n",
    "\n",
    "def remove_item(category_name, item_name):\n",
    "    if category_name in catalog:\n",
    "        for item in catalog[category_name]:\n",
    "            if item.name == item_name:\n",
    "                catalog[category_name].remove(item)\n",
    "        print(f\"Item '{item_name}' does not exist.\")\n",
    "    else:\n",
    "        print(f\"'{category_name}' does not exist.\")\n",
    "\n",
    "def view_catalog():\n",
    "    print(\"\\n==CATALOG==\")\n",
    "    for category, items in catalog.items():\n",
    "        print(f\"\\n{category}\")\n",
    "\n",
    "        for item in items:\n",
    "            print(f\"Name: {item.name}, Price: ${item.price}, ProductID: {item.productid}, CategoryID: {item.categoryid}\")\n",
    "\n",
    "# Add catgories to catalog\n",
    "add_category(\"T-Shirts\")\n",
    "add_category(\"Jeans\")\n",
    "add_category(\"Dresses\")\n",
    "add_category(\"Jackets\")\n",
    "\n",
    "# Add clothing items to catalog\n",
    "add_item(\"T-Shirts\", ClothingItem(\"Plain White T-Shirt\", 15.99, \"P12345\", \"C1\"))\n",
    "add_item(\"T-Shirts\", ClothingItem(\"Graphic Print T-Shirt\", 19.99, \"P12346\", \"C1\"))\n",
    "add_item(\"Jeans\", ClothingItem(\"Slim Fit Jeans\", 39.99, \"P22345\", \"C2\"))\n",
    "add_item(\"Jeans\", ClothingItem(\"Straight Leg Jeans\", 34.99, \"P22346\", \"C2\"))\n",
    "add_item(\"Dresses\", ClothingItem(\"Floral Sundress\", 29.99, \"P32345\", \"C3\"))\n",
    "add_item(\"Dresses\", ClothingItem(\"Little Black Dress\", 49.99, \"P32346\", \"C3\"))\n",
    "add_item(\"Jackets\", ClothingItem(\"Denim Jacket\", 54.99, \"P42345\", \"C4\"))\n",
    "add_item(\"Jackets\", ClothingItem(\"Leather Biker Jacket\", 89.99, \"P42346\", \"C4\"))\n"
   ]
  },
  {
   "cell_type": "markdown",
   "id": "beb3cc92-ab7e-4b06-af18-fe28a7f38fce",
   "metadata": {},
   "source": [
    "## Create cart and set controls"
   ]
  },
  {
   "cell_type": "code",
   "execution_count": 6,
   "id": "034cbee0-f9b0-4486-88f9-aeaed7608ffa",
   "metadata": {},
   "outputs": [],
   "source": [
    "shopping_cart = []\n",
    "\n",
    "def add_to_cart(item_name, quantity):\n",
    "    qty = quantity\n",
    "    for cateogry, items in catalog.items():\n",
    "        for item in items:\n",
    "            if item.name == item_name:\n",
    "                while quantity > 0:\n",
    "                    shopping_cart.append(item)\n",
    "                    quantity -= 1\n",
    "                print(f\"Added {qty}pcs of {item_name} to the shopping cart.\")\n",
    "                return\n",
    "    print(f\"Item '{item_name}' not found in the catalog.\")\n",
    "\n",
    "def remove_from_cart(item_name, quantity):\n",
    "    for item in shopping_cart:\n",
    "        if item.name == item_name:\n",
    "            while quantity > 0:\n",
    "                try:\n",
    "                    shopping_cart.remove(item)\n",
    "                except ValueError:\n",
    "                    print(f\"Removed '{item_name}' completely from shopping cart\")\n",
    "                quantity -= 1\n",
    "            return\n",
    "    print(f\"Item '{item_name}' not found in the shopping cart.\")\n",
    "\n",
    "def display_cart():\n",
    "    total_price = 0\n",
    "\n",
    "    print(\"== CART ==\")\n",
    "    \n",
    "    for item in shopping_cart:\n",
    "        print(\"Item:\", item.name, \"Price: $\", item.price)\n",
    "        total_price += item.price\n",
    "    \n",
    "    print(\"Total Price: $\", total_price)\n",
    "\n",
    "def payment():\n",
    "    print(\"1. Credit Card\")\n",
    "    print(\"2. PayPal\")\n",
    "    print(\"3. MPesa\")\n",
    "\n",
    "    payment_input = input(\"Select payment option: \")\n",
    "\n",
    "    if payment_input == '1':\n",
    "        print(\"You will be shortly redirected to the portal for Credit Card payments.\")\n",
    "    elif payment_input == '2':\n",
    "        print(\"You will be shortly redirected to the portal for PayPal payments.\")\n",
    "    elif payment_input == '3':\n",
    "        print(\"You will be shortly redirected to the portal for MPesa payments.\")\n",
    "    else:\n",
    "        print(\"Select a valid payment option\")"
   ]
  },
  {
   "cell_type": "markdown",
   "id": "f3b7e421-9ae1-4977-aba6-87181d100964",
   "metadata": {},
   "source": [
    "## User controls"
   ]
  },
  {
   "cell_type": "code",
   "execution_count": 7,
   "id": "303a7dcc-c760-4256-9a20-1882f24052ff",
   "metadata": {
    "scrolled": true
   },
   "outputs": [
    {
     "name": "stdout",
     "output_type": "stream",
     "text": [
      "Only users can add/remove items from the cart and make payments.\n"
     ]
    }
   ],
   "source": [
    "if userid() == \"U01\":\n",
    "    while True:\n",
    "        print(\"\\nMENU:\")\n",
    "        print(\"1. Add item to cart\")\n",
    "        print(\"2. Remove remove item from cart\")\n",
    "        print(\"3. Display cart\")\n",
    "        print(\"4. Make payment\")\n",
    "        print(\"5. Display Catalog\")\n",
    "        print(\"6. Exit\")\n",
    "    \n",
    "        user_input = input(\"Select your option: \")\n",
    "    \n",
    "        if user_input == '1':\n",
    "            item_name = input(\"Select item name: \")\n",
    "            quantity = int(input(\"How many would you like to add to cart? \"))\n",
    "            add_to_cart(item_name, quantity)\n",
    "        elif user_input == '2':\n",
    "            item_name = input(\"Select item name: \")\n",
    "            quantity = int(input(\"How many would you like to remove from cart? \"))\n",
    "            remove_from_cart(item_name, quantity)\n",
    "        elif user_input == '3':\n",
    "            display_cart()\n",
    "        elif user_input == '4':\n",
    "            payment()\n",
    "        elif user_input == '5':\n",
    "            view_catalog()\n",
    "        elif user_input == '6':\n",
    "            break\n",
    "        else:\n",
    "            print(\"Input a vaild option.\")\n",
    "else:\n",
    "    print(\"Only users can add/remove items from the cart and make payments.\")"
   ]
  },
  {
   "cell_type": "markdown",
   "id": "499c25aa-e633-4770-b8e7-16fdab553a3a",
   "metadata": {},
   "source": [
    "## Admin input controls"
   ]
  },
  {
   "cell_type": "code",
   "execution_count": 8,
   "id": "f6f50ef3-a8bc-4c47-81e8-c97963f3af8f",
   "metadata": {},
   "outputs": [
    {
     "name": "stdout",
     "output_type": "stream",
     "text": [
      "MENU:\n",
      "1. Add Category\n",
      "2. Remove Category\n",
      "3. Add Item\n",
      "4. Remove Item\n",
      "5. Display Catalog\n",
      "6. Exit\n"
     ]
    },
    {
     "name": "stdin",
     "output_type": "stream",
     "text": [
      "Select your option:  1\n",
      "Add category name:  Shoes\n"
     ]
    },
    {
     "name": "stdout",
     "output_type": "stream",
     "text": [
      "Category 'Shoes' has been added.\n",
      "MENU:\n",
      "1. Add Category\n",
      "2. Remove Category\n",
      "3. Add Item\n",
      "4. Remove Item\n",
      "5. Display Catalog\n",
      "6. Exit\n"
     ]
    },
    {
     "name": "stdin",
     "output_type": "stream",
     "text": [
      "Select your option:  3\n",
      "Enter category to add item to:  Shoes\n",
      "Enter item name:  Nike running shoes\n",
      "Enter item price: 54.99\n",
      "Enter product ID:  P53231\n",
      "Enter category ID:  C5\n"
     ]
    },
    {
     "name": "stdout",
     "output_type": "stream",
     "text": [
      "'Nike running shoes' added to Shoes category.\n",
      "MENU:\n",
      "1. Add Category\n",
      "2. Remove Category\n",
      "3. Add Item\n",
      "4. Remove Item\n",
      "5. Display Catalog\n",
      "6. Exit\n"
     ]
    },
    {
     "name": "stdin",
     "output_type": "stream",
     "text": [
      "Select your option:  5\n"
     ]
    },
    {
     "name": "stdout",
     "output_type": "stream",
     "text": [
      "\n",
      "==CATALOG==\n",
      "\n",
      "T-Shirts\n",
      "Name: Plain White T-Shirt, Price: $15.99, ProductID: P12345, CategoryID: C1\n",
      "Name: Graphic Print T-Shirt, Price: $19.99, ProductID: P12346, CategoryID: C1\n",
      "\n",
      "Jeans\n",
      "Name: Slim Fit Jeans, Price: $39.99, ProductID: P22345, CategoryID: C2\n",
      "Name: Straight Leg Jeans, Price: $34.99, ProductID: P22346, CategoryID: C2\n",
      "\n",
      "Dresses\n",
      "Name: Floral Sundress, Price: $29.99, ProductID: P32345, CategoryID: C3\n",
      "Name: Little Black Dress, Price: $49.99, ProductID: P32346, CategoryID: C3\n",
      "\n",
      "Jackets\n",
      "Name: Denim Jacket, Price: $54.99, ProductID: P42345, CategoryID: C4\n",
      "Name: Leather Biker Jacket, Price: $89.99, ProductID: P42346, CategoryID: C4\n",
      "\n",
      "Shoes\n",
      "Name: Nike running shoes, Price: $54.99, ProductID: P53231, CategoryID: C5\n",
      "MENU:\n",
      "1. Add Category\n",
      "2. Remove Category\n",
      "3. Add Item\n",
      "4. Remove Item\n",
      "5. Display Catalog\n",
      "6. Exit\n"
     ]
    },
    {
     "name": "stdin",
     "output_type": "stream",
     "text": [
      "Select your option:  2\n",
      "Remove category name: Dresses\n"
     ]
    },
    {
     "name": "stdout",
     "output_type": "stream",
     "text": [
      "Category 'Dresses' has been removed.\n",
      "MENU:\n",
      "1. Add Category\n",
      "2. Remove Category\n",
      "3. Add Item\n",
      "4. Remove Item\n",
      "5. Display Catalog\n",
      "6. Exit\n"
     ]
    },
    {
     "name": "stdin",
     "output_type": "stream",
     "text": [
      "Select your option:  5\n"
     ]
    },
    {
     "name": "stdout",
     "output_type": "stream",
     "text": [
      "\n",
      "==CATALOG==\n",
      "\n",
      "T-Shirts\n",
      "Name: Plain White T-Shirt, Price: $15.99, ProductID: P12345, CategoryID: C1\n",
      "Name: Graphic Print T-Shirt, Price: $19.99, ProductID: P12346, CategoryID: C1\n",
      "\n",
      "Jeans\n",
      "Name: Slim Fit Jeans, Price: $39.99, ProductID: P22345, CategoryID: C2\n",
      "Name: Straight Leg Jeans, Price: $34.99, ProductID: P22346, CategoryID: C2\n",
      "\n",
      "Jackets\n",
      "Name: Denim Jacket, Price: $54.99, ProductID: P42345, CategoryID: C4\n",
      "Name: Leather Biker Jacket, Price: $89.99, ProductID: P42346, CategoryID: C4\n",
      "\n",
      "Shoes\n",
      "Name: Nike running shoes, Price: $54.99, ProductID: P53231, CategoryID: C5\n",
      "MENU:\n",
      "1. Add Category\n",
      "2. Remove Category\n",
      "3. Add Item\n",
      "4. Remove Item\n",
      "5. Display Catalog\n",
      "6. Exit\n"
     ]
    },
    {
     "name": "stdin",
     "output_type": "stream",
     "text": [
      "Select your option:  6\n"
     ]
    }
   ],
   "source": [
    "if userid() == \"A01\":\n",
    "    while True:\n",
    "        print(\"MENU:\")\n",
    "        print(\"1. Add Category\")\n",
    "        print(\"2. Remove Category\")\n",
    "        print(\"3. Add Item\")\n",
    "        print(\"4. Remove Item\")\n",
    "        print(\"5. Display Catalog\")\n",
    "        print(\"6. Exit\")\n",
    "    \n",
    "        admin_input = input(\"Select your option: \")\n",
    "    \n",
    "        if admin_input == \"1\":\n",
    "            category_name = input(\"Add category name: \")\n",
    "            add_category(category_name)\n",
    "            print(f\"Category '{category_name}' has been added.\")\n",
    "        elif admin_input == \"2\":\n",
    "            category_name = input(\"Remove category name:\")\n",
    "            remove_category(category_name)\n",
    "            print(f\"Category '{category_name}' has been removed.\")\n",
    "        elif admin_input == \"3\":\n",
    "            category_name = input(\"Enter category to add item to: \")\n",
    "            item_name = input(\"Enter item name: \")\n",
    "            price = float(input(\"Enter item price:\"))\n",
    "            productid = input(\"Enter product ID: \")\n",
    "            categoryid = input(\"Enter category ID: \")\n",
    "            add_item(category_name, ClothingItem(item_name, price, productid, categoryid))\n",
    "            print(f\"'{item_name}' added to {category_name} category.\")\n",
    "        elif admin_input == \"4\":\n",
    "            category_name = input(\"Enter category to add item to: \")\n",
    "            item_name = input(\"Enter item name: \")\n",
    "            remove_item(category_name, item_name)\n",
    "            print(f\"'{item_name}' has been removed from the catalog.\")\n",
    "        elif admin_input == \"5\":\n",
    "            view_catalog()\n",
    "        elif admin_input == \"6\":\n",
    "            break\n",
    "        else:\n",
    "            print(\"Input a vaild option.\")\n",
    "else:\n",
    "    print(\"Only admins can edit the catalog.\")"
   ]
  },
  {
   "cell_type": "code",
   "execution_count": null,
   "id": "369239d7-e141-4ae3-b69f-3c1df29c5911",
   "metadata": {},
   "outputs": [],
   "source": []
  }
 ],
 "metadata": {
  "kernelspec": {
   "display_name": "Python 3 (ipykernel)",
   "language": "python",
   "name": "python3"
  },
  "language_info": {
   "codemirror_mode": {
    "name": "ipython",
    "version": 3
   },
   "file_extension": ".py",
   "mimetype": "text/x-python",
   "name": "python",
   "nbconvert_exporter": "python",
   "pygments_lexer": "ipython3",
   "version": "3.11.7"
  }
 },
 "nbformat": 4,
 "nbformat_minor": 5
}
